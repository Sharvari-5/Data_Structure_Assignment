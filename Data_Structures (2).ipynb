{
  "nbformat": 4,
  "nbformat_minor": 0,
  "metadata": {
    "colab": {
      "provenance": []
    },
    "kernelspec": {
      "name": "python3",
      "display_name": "Python 3"
    },
    "language_info": {
      "name": "python"
    }
  },
  "cells": [
    {
      "cell_type": "markdown",
      "source": [
        "# **DATA STRUCTURE** **ASSIGNMENT**"
      ],
      "metadata": {
        "id": "v6aDN7j2IrAk"
      }
    },
    {
      "cell_type": "markdown",
      "source": [
        "THEORY QUESTIONS"
      ],
      "metadata": {
        "id": "eR4lm_wCUCjF"
      }
    },
    {
      "cell_type": "markdown",
      "source": [
        " Que.1 What are data structures, and why are they important?\n",
        "   ->   Define:\n",
        "        A data structure is a specialized format for organizing, processing, retrieving and storing data,so\n",
        "        that it can be actually accessed easily and manupulated efficiently.\n",
        "        It represents the kind of value that tells what operations can be performed on a particular data.\n",
        "        There are several basic and advanced types of data structures, all designed to arrange data to suit a specific purpose.\n",
        "\n",
        "   ->   Importance of Data Structure:\n",
        "        Efficiency: Choosing the right data structure can significantly improve the speed and efficiency of algorithms.\n",
        "                     For example, searching through a large dataset is much faster with a tree-like structure than with a simple list.\n",
        "        Organization:They help organize data in a way that makes it easier to understand and work with, leading to more\n",
        "                     readable and maintainable code.\n",
        "        Algorithm Design:Data structures are fundamental to designing efficient algorithms. The choice of data structure can\n",
        "                         directly influence the performance of an algorithm.\n",
        "        Memory Management:Data structures can help optimize memory usage and prevent issues like memory leaks.\n",
        "        Real-world Applications:They are used in a wide range of applications, from managing databases to indexing the internet."
      ],
      "metadata": {
        "id": "ibfGK2LHQzIh"
      }
    },
    {
      "cell_type": "markdown",
      "source": [
        " Que.2 Explain the difference between mutable and immutable data types with examplesP?\n",
        "\n",
        "   ->  Mutable Data Types:\n",
        "        * Mutable data types allow to modify their values after they have been created.\n",
        "        * In Python, lists, dictionaries, and sets are examples of mutable data types.\n",
        "        * When we modify a mutable object, we are directly changing the object itself, not creating a new one.\n",
        "        * Mutable data types are useful when you need to update or modify data in place.\n",
        "\n",
        "   ->  Immutable Data Types:\n",
        "        * Immutable data types are those whose values cannot be changed after they have been created.\n",
        "        * In Python, strings, numbers, and tuples are examples of immutable data types.\n",
        "        * When we try to modify an immutable object, a new object is created with the modified value, and the original\n",
        "          object remains unchanged.\n",
        "        * Immutable data types are useful when we need to ensure that data remains consistent and unchanged, or\n",
        "          when we want to avoid unintended side effects."
      ],
      "metadata": {
        "id": "13_PRh7QQ31R"
      }
    },
    {
      "cell_type": "markdown",
      "source": [
        " Que.3 What are the main differences between lists and tuples in Python?\n",
        "\n",
        "  ->  Lists:\n",
        "       * Lists are Mutable.\n",
        "       * We can add,remove or modify elements within a list after it created.\n",
        "       * Lists are defined using Square-bracket[].\n",
        "       * Lists are more flexible because they can be modified.\n",
        "       * List are allow duplicate members.\n",
        "       * Lists can store heterogeneous elements.\n",
        "       * List elememts are comma seperated.\n",
        "       * Iteration over list is time consuming.\n",
        "       * Lists are better for performing operations, such as insertion and deletion.\n",
        "       * Lists consume more memory.\n",
        "       * Lists have several built-in methods.\n",
        "       * Lists are more prone to unexpected changes and errors.\n",
        "\n",
        "       For.Ex.\n",
        "       list1 = [20,30,49,57,98]\n",
        "       list.append(100)\n",
        "       print(list1)\n",
        "       Output:\n",
        "       [20,30,49,57,98,100]\n",
        "\n",
        "  -> Tuple:\n",
        "       * Tuple are immutable.\n",
        "       * We cannot add,remove or modify elements within a tuple.\n",
        "       * Tuple are defined using parenthesis().\n",
        "       * Tuple items are comma separated.\n",
        "       * Tuples are allowed duplicate members.\n",
        "       * Tuple can store heterogeneous elements.\n",
        "       * Iterations over tuple is faster.\n",
        "       * Tuples are more suitable for accessing elements efficiently.\n",
        "       * Tuples consumes less memory.\n",
        "       * Tuples have fewer built-in methods.\n",
        "       * Tuples, being immutable are less error prone.\n",
        "\n",
        "       For.Ex.\n",
        "       tuple1 = (10,30,40,50,49)\n",
        "       tuple1.index(40)\n",
        "       print(tuple1)\n",
        "       Output:\n",
        "       2"
      ],
      "metadata": {
        "id": "W-18HM_qSPrR"
      }
    },
    {
      "cell_type": "markdown",
      "source": [
        "Que.4 Describe how dictionaries store data?\n",
        "\n",
        " -> A Python dictionary is a data structure that stores the value in key: value pairs.\n",
        "    Values in a dictionary can be of any data type and can be duplicated,\n",
        "    whereas keys can't be repeated and must be immutable.\n",
        "\n",
        "    For.Ex.\n",
        "    dict1 = {1: 'All', 2: 'is', 3: 'best'}\n",
        "    print(dict1)\n",
        "    Output:\n",
        "    All is well"
      ],
      "metadata": {
        "id": "b9mJ8YsSSYUv"
      }
    },
    {
      "cell_type": "markdown",
      "source": [
        "Que.5 Why might you use a set instead of a list in Python?\n",
        "\n",
        "  -> We used set because sets cannot have multiple occurances of the same element.\n",
        "     it makes sets highly useful to efficiently remove duplicate values from a list\n",
        "     and to perform common math operations like unions and intersections.\n",
        "     Sets do not store indexed data or duplicates, they use less memory than lists and\n",
        "     are less computationally expensive."
      ],
      "metadata": {
        "id": "bFH6L-8iSdj4"
      }
    },
    {
      "cell_type": "markdown",
      "source": [
        " Que.6 What is a string in Python, and how is it different from a list?\n",
        "\n",
        "   -> String:-\n",
        "      A string is a sequence of characters, such as letters, numbers, or symbols, enclosed in quotes\n",
        "      (single, double, or triple). Strings are immutable, meaning their contents cannot be modified after creation.\n",
        "\n",
        "      Key diffrence of string and list:\n",
        "       1.string are immutable while list are mutable.\n",
        "       2.String can only contain character ,while list contain any data type.\n",
        "       3.Both strings and lists support slicing, but strings are limited to extracting substrings,\n",
        "         while lists can extract any subset of elements.\n"
      ],
      "metadata": {
        "id": "YVVwpVMDSg1T"
      }
    },
    {
      "cell_type": "code",
      "source": [
        "str1 = \"Taiwan\"\n",
        "str2 = \"Taipei\"\n",
        "print(str1)\n",
        "print(str1[2:5])"
      ],
      "metadata": {
        "colab": {
          "base_uri": "https://localhost:8080/"
        },
        "id": "bBsXCZ1LA3p0",
        "outputId": "3844e1cb-04bf-4757-a022-09b33fd13c38"
      },
      "execution_count": 4,
      "outputs": [
        {
          "output_type": "stream",
          "name": "stdout",
          "text": [
            "Taiwan\n",
            "iwa\n"
          ]
        }
      ]
    },
    {
      "cell_type": "markdown",
      "source": [
        "Que.7 How do tuples ensure data integrity in Python?\n",
        "\n",
        "   -> In Python, tuples are immutable data structures that store a collection of values.\n",
        "\n",
        "      Their immutability ensures data integrity in several ways:\n",
        "      1.Immutable by Design\n",
        "      2.Protection from unintentional changes\n",
        "      3.Thread Safety\n",
        "      4.Code readability and maintaninbility"
      ],
      "metadata": {
        "id": "xzNSPDa9SkfD"
      }
    },
    {
      "cell_type": "markdown",
      "source": [
        " Que.8 What is a hash table, and how does it relate to dictionaries in Python?\n",
        "\n",
        "   -> A hash table is a data structure that stores key-value pairs in an array using a hash function to map keys to indices.\n",
        "      In Python, dictionaries are implemented using hash tables.\n",
        "\n",
        "      Relationship to Dictionaries:\n",
        "       Dictionary Implementation:\n",
        "        Python dictionaries are implemented using hash tables.\n",
        "\n",
        "       Key-Value Pairs:           \n",
        "        Dictionaries store data as key-value pairs, just like hash tables.\n",
        "\n",
        "       Fast Lookups:            \n",
        "        Hash tables enable fast lookups, insertions, and deletions in dictionaries."
      ],
      "metadata": {
        "id": "nHfYaWQ5SxfP"
      }
    },
    {
      "cell_type": "markdown",
      "source": [
        " Que.9 Can lists contain different data types in Python?\n",
        "\n",
        "   -> Yes, lists in Python can contain different data types.\n",
        "      This is one of the key features of Python lists, making them a flexible and powerful data structure."
      ],
      "metadata": {
        "id": "Djo0Pa1SQsey"
      }
    },
    {
      "cell_type": "code",
      "source": [
        "my_list = [1, \"SunMoon\", 8.14, True, [20, 25, 39], {\"name\": \"lora\"}]\n",
        "print(my_list)"
      ],
      "metadata": {
        "colab": {
          "base_uri": "https://localhost:8080/"
        },
        "id": "PADr1ZaQFPol",
        "outputId": "d69ee0f9-a978-4208-9176-9d8eb2f20fbb"
      },
      "execution_count": 6,
      "outputs": [
        {
          "output_type": "stream",
          "name": "stdout",
          "text": [
            "[1, 'SunMoon', 8.14, True, [20, 25, 39], {'name': 'lora'}]\n"
          ]
        }
      ]
    },
    {
      "cell_type": "markdown",
      "source": [
        " Que.10 Explain why strings are immutable in Python?\n",
        "\n",
        "   -> Thread Safety:\n",
        "      Immutable strings are thread-safe, meaning multiple threads can access and manipulate the same string without fear of data corruption.\n",
        "\n",
        "      Hashability:\n",
        "      Immutable strings can be hashed, which enables their use as dictionary keys and in other hash-based data structures.\n",
        "\n",
        "      Security:\n",
        "      Immutable strings reduce the risk of buffer overflow attacks and other security vulnerabilities that can occur when modifying mutable strings.\n",
        "\n",
        "      Performance:\n",
        "      Immutable strings can be optimized for performance, as the Python interpreter can cache and reuse immutable string objects."
      ],
      "metadata": {
        "id": "591Pgw6BQm9K"
      }
    },
    {
      "cell_type": "markdown",
      "source": [
        " Que.11 What advantages do dictionaries offer over lists for certain tasks?\n",
        "\n",
        "   -> Dictionaries offer several advantages over lists,\n",
        "      Fast Lookups:\n",
        "      Dictionaries provide fast lookups, with an average time complexity of O(1),\n",
        "      making them ideal for tasks that require frequent data retrieval.\n",
        "\n",
        "      Key-Value Pairs:\n",
        "      Dictionaries store data as key-value pairs, allowing for efficient data organization and retrieval.\n",
        "      This is particularly useful when working with data that has a natural key-value structure.\n",
        "\n",
        "      Efficient Insertion and Deletion:\n",
        "      Dictionaries provide efficient insertion and deletion operations, with an average time complexity of O(1).\n",
        "      This makes them suitable for tasks that require frequent data updates."
      ],
      "metadata": {
        "id": "kKeRL01dQhKb"
      }
    },
    {
      "cell_type": "markdown",
      "source": [
        " Que.12 Describe a scenario where using a tuple would be preferable over a list?\n",
        "\n",
        "   -> Tuples vs Lists: Choosing the Right Data Structure\n",
        "\n",
        "      In Python, both tuples and lists are data structures that can store multiple values.\n",
        "      However, there are scenarios where using a tuple would be preferable over a list.\n",
        "\n",
        "      Scenario: Representing Immutable Data\n",
        "\n",
        "      Suppose we're working on a program that deals with dates. We want to represent a date as a collection of values\n",
        "      (year, month, day). In this case, using a tuple would be preferable over a list because:\n",
        "\n",
        "      1.immutability\n",
        "\n",
        "      2.hashability\n",
        "\n",
        "      3.code readability"
      ],
      "metadata": {
        "id": "ti30VJ77QWCy"
      }
    },
    {
      "cell_type": "markdown",
      "source": [
        " Que.13 How do sets handle duplicate values in Python?\n",
        "  \n",
        "   -> In Python, sets are an unordered collection of unique elements. When it comes to handling duplicate values,\n",
        "      sets automatically eliminate them, ensuring that each element in the set is unique.\n",
        "\n",
        "      Union and Intersection Operations:\n",
        "      When performing union or intersection operations on sets, duplicates are eliminated in the resulting set."
      ],
      "metadata": {
        "id": "AAPbRn-nQQfu"
      }
    },
    {
      "cell_type": "code",
      "source": [
        "set1={106,275,393,467}\n",
        "set2={632,478,275,733}\n",
        "print(\"intersection\",set1&set2)\n",
        "print(\"union\",set1| set2)"
      ],
      "metadata": {
        "colab": {
          "base_uri": "https://localhost:8080/"
        },
        "id": "oy0qVA229Vqc",
        "outputId": "3f8060d6-d6ec-4539-b83a-5f26f947f994"
      },
      "execution_count": 2,
      "outputs": [
        {
          "output_type": "stream",
          "name": "stdout",
          "text": [
            "intersection {275}\n",
            "union {393, 106, 275, 467, 632, 733, 478}\n"
          ]
        }
      ]
    },
    {
      "cell_type": "markdown",
      "source": [
        " Que.14 How does the “in” keyword work differently for lists and dictionaries?\n",
        "\n",
        "  -> The \"in\" keyword in Python is used to check if a value exists in a sequence (such as a list, tuple, or string)\n",
        "     or a collection (such as a dictionary or set). However, the \"in\" keyword works differently for lists and dictionaries.\n",
        "\n",
        "     list:-\n",
        "     For lists, the \"in\" keyword checks if a value exists as an element in the list.\n",
        "     It returns True if the value is found, and False otherwise.\n",
        "\n",
        "     Dictionary:-\n",
        "     For dictionaries, the \"in\" keyword checks if a key exists in the dictionary.\n",
        "     It returns True if the key is found, and False otherwise. Note that the \"in\" keyword\n",
        "     does not check for values in dictionaries, only keys."
      ],
      "metadata": {
        "id": "Ns1F5LsWQFBs"
      }
    },
    {
      "cell_type": "markdown",
      "source": [
        " Que.15 Can you modify the elements of a tuple? Explain why or why not?\n",
        "\n",
        "  -> No, we cannot directly modify the elements of a tuple after it's created because tuples are immutable,\n",
        "     meaning their contents cannot be changed once they are defined.\n",
        "\n",
        "      Why:\n",
        "      Immutability:\n",
        "      Tuples are designed to be immutable, which means that once we create a tuple, we cannot alter its elements.\n",
        "      This design choice makes tuples useful for situations where data integrity and consistency are paramount.\n",
        "      Data Integrity:\n",
        "      The immutability of tuples helps prevent accidental modification of data, ensuring that the data remains consistent\n",
        "      throughout the program's execution.\n",
        "      Alternatives:\n",
        "      If we need a data structure that allows modification, we should use a list instead of a tuple.\n",
        "\n",
        "      Why Not?\n",
        "      Tuples are structural and defined by their content. If we replace one of their component values and retain the rest,\n",
        "      the result is a new tuple. We can always create a new tuple from the values of an existing tuple.\n"
      ],
      "metadata": {
        "id": "1ElBpbRvP871"
      }
    },
    {
      "cell_type": "markdown",
      "source": [
        "Que.16 What is a nested dictionary, and give an example of its use case?\n",
        "\n",
        "  -> Nested Dictionary:\n",
        "     In Python, a nested dictionary is a dictionary inside a dictionary.\n",
        "     It's a collection of dictionaries into one single dictionary.\n",
        "     Nested dictionaries are dictionaries"
      ],
      "metadata": {
        "id": "b9yivnDPOAhf"
      }
    },
    {
      "cell_type": "code",
      "source": [
        "# Create a nested dictionary\n",
        "students = {\n",
        "    \"John\": {\n",
        "        \"grade\": 9,\n",
        "        \"courses\": [\"Math\", \"Science\", \"English\"]\n",
        "    },\n",
        "    \"Jane\": {\n",
        "        \"grade\": 10,\n",
        "        \"courses\": [\"History\", \"Foreign Language\", \"Art\"]\n",
        "    },\n",
        "    \"Bob\": {\n",
        "        \"grade\": 11,\n",
        "        \"courses\": [\"Physics\", \"Chemistry\",\"biology\"]\n",
        "    }\n",
        "}\n",
        "print(students[\"John\"][\"grade\"])  # Output: 9\n",
        "print(students[\"Jane\"][\"courses\"])  # Output: [\"History\", \"Foreign Language\", \"Art\"]\n",
        "\n"
      ],
      "metadata": {
        "colab": {
          "base_uri": "https://localhost:8080/"
        },
        "id": "XzL6_B-7g4n1",
        "outputId": "e3cd0b11-6ff3-4704-cfb4-960a4bd4f3c3"
      },
      "execution_count": 2,
      "outputs": [
        {
          "output_type": "stream",
          "name": "stdout",
          "text": [
            "9\n",
            "['History', 'Foreign Language', 'Art']\n"
          ]
        }
      ]
    },
    {
      "cell_type": "markdown",
      "source": [
        "Que.17 Describe the time complexity of accessing elements in a dictionary.\n",
        "\n",
        "  ->   Dictionaries in Python are implemented as hash tables, which\n",
        "       provide fast lookups,  insertions, and deletions. When you access an element in a dictionary, Python uses the hash value of the key to determine the location of the corresponding value in the hash table."
      ],
      "metadata": {
        "id": "GBxK7CpROdSz"
      }
    },
    {
      "cell_type": "markdown",
      "source": [
        "Que.18 In what situations are lists preferred over dictionaries?\n",
        "\n",
        "  -> Lists are prefer over dictionary ,For ordered collections and sequence operations,\n",
        "     such as maintaining a stack or queue, lists are more suitable.\n",
        "     Lists perform faster for ordered operations like sorting, while dictionaries perform faster for lookup operations.\n",
        "     lists are preferred over dictionaries in situations where order matters, index-based access is required,\n",
        "     data is homogeneous, or data needs to be mutated."
      ],
      "metadata": {
        "id": "lQMHdtw6PQk2"
      }
    },
    {
      "cell_type": "markdown",
      "source": [
        " Que.19 Why are dictionaries considered unordered, and how does that affect data retrieval?\n",
        "\n",
        "  -> Dictionaries are considered unordered because they are designed for\n",
        "     fast key-based lookup,\n",
        "     not for maintaining a specific order of elements. This means that when you access or iterate through a dictionary,\n",
        "     the order of items might not match the order in which they were inserted, and\n",
        "     you can't rely on a specific order for data retrieval.\n",
        "     Their implementation as hash tables stores key-value pairs in an arbitrary order.\n",
        "     This affects data retrieval, as the order in which key-value pairs are returned is not guaranteed."
      ],
      "metadata": {
        "id": "yinrNpvyPFoA"
      }
    },
    {
      "cell_type": "markdown",
      "source": [
        "Que.20 Explain the difference between a list and a dictionary in terms of data retrieval?\n",
        "\n",
        "lists and dictionaries differ in their data retrieval mechanisms, with lists using index-based retrieval and dictionaries using key-based retrieval. While lists maintain the order of elements, dictionaries are unordered. Both data structures provide fast lookup, but are optimized for different use cases."
      ],
      "metadata": {
        "id": "cz5SmV5qPZSo"
      }
    },
    {
      "cell_type": "markdown",
      "source": [
        "PRACTICAL QUESTIONS"
      ],
      "metadata": {
        "id": "wWQruNZ2T7A0"
      }
    },
    {
      "cell_type": "code",
      "source": [
        "# Que.1  Write a code to create a string with your name and print it?\n",
        "\n",
        "sen = \"SHARVARI\"\n",
        "print(\"My name is:\",sen)\n"
      ],
      "metadata": {
        "id": "8_ItWgOwlyxx",
        "colab": {
          "base_uri": "https://localhost:8080/"
        },
        "outputId": "3da38f41-7412-495d-e54e-84e4acfc9f2f"
      },
      "execution_count": 17,
      "outputs": [
        {
          "output_type": "stream",
          "name": "stdout",
          "text": [
            "My name is: SHARVARI\n"
          ]
        }
      ]
    },
    {
      "cell_type": "code",
      "source": [
        "# Que.2  Write a code to find the length of the string \"Hello World\"?\n",
        "\n",
        "\n",
        "sen1 = \"Hello World\"\n",
        "print(\"Length of the string is:\",(len(sen1)))\n"
      ],
      "metadata": {
        "id": "GJSO7h3dly0s",
        "colab": {
          "base_uri": "https://localhost:8080/"
        },
        "outputId": "fb85536a-6aa1-4dce-c250-e453cbcf1f48"
      },
      "execution_count": 18,
      "outputs": [
        {
          "output_type": "stream",
          "name": "stdout",
          "text": [
            "Length of the string is: 11\n"
          ]
        }
      ]
    },
    {
      "cell_type": "code",
      "source": [
        "# Que3. Write a code to slice the first 3 characters from the string \"Python Programming\"?\n",
        "\n",
        "sen2 = \"Python Programming\"\n",
        "print(\"The first three characters of the string is :\",(sen2[0:3]))\n",
        "\n",
        "sen3 = \"Python Programming\"\n",
        "print(\"The first three characters of the string is :\",sen3[:3])"
      ],
      "metadata": {
        "id": "-JBdnGPoly3a",
        "colab": {
          "base_uri": "https://localhost:8080/"
        },
        "outputId": "1065ec0a-187a-4b49-9936-4e2768ea691a"
      },
      "execution_count": 19,
      "outputs": [
        {
          "output_type": "stream",
          "name": "stdout",
          "text": [
            "The first three characters of the string is : Pyt\n",
            "The first three characters of the string is : Pyt\n"
          ]
        }
      ]
    },
    {
      "cell_type": "code",
      "source": [
        "# Que.4 Write a code to convert the string \"hello\" to uppercase?\n",
        "\n",
        "sen3 = \"hello\"\n",
        "print(sen3.upper())"
      ],
      "metadata": {
        "id": "9sk0IvFSly55",
        "colab": {
          "base_uri": "https://localhost:8080/"
        },
        "outputId": "a6417199-6751-47da-f04e-ce7d401f6be3"
      },
      "execution_count": 20,
      "outputs": [
        {
          "output_type": "stream",
          "name": "stdout",
          "text": [
            "HELLO\n"
          ]
        }
      ]
    },
    {
      "cell_type": "code",
      "source": [
        "# Que.5 Write a code to replace the word \"apple\" with \"orange\" in the string \"I like apple\"?\n",
        "\n",
        "sen4 = \"I like apple\"\n",
        "print(sen4.replace(\"apple\",\"orange\"))"
      ],
      "metadata": {
        "id": "rM78BEBRly8s",
        "colab": {
          "base_uri": "https://localhost:8080/"
        },
        "outputId": "13db550e-ab74-4010-f501-942620dbc7c8"
      },
      "execution_count": 21,
      "outputs": [
        {
          "output_type": "stream",
          "name": "stdout",
          "text": [
            "I like orange\n"
          ]
        }
      ]
    },
    {
      "cell_type": "code",
      "source": [
        "# Que.6 Write a code to create a list with numbers 1 to 5 and print it?\n",
        "\n",
        "list1 = [1,2,3,4,5]\n",
        "print(list1)"
      ],
      "metadata": {
        "id": "ZyW72_4Hly_H",
        "colab": {
          "base_uri": "https://localhost:8080/"
        },
        "outputId": "260fb3e8-1fb8-46e6-dc1a-53fabb3f3e6f"
      },
      "execution_count": 22,
      "outputs": [
        {
          "output_type": "stream",
          "name": "stdout",
          "text": [
            "[1, 2, 3, 4, 5]\n"
          ]
        }
      ]
    },
    {
      "cell_type": "code",
      "source": [
        "# Que.7 Write a code to append the number 10 to the list [1, 2, 3, 4]?\n",
        "\n",
        "list2 = [1,2,3,4]\n",
        "list2.append(10)\n",
        "print(list2)"
      ],
      "metadata": {
        "id": "vgKO5IjplzEn",
        "colab": {
          "base_uri": "https://localhost:8080/"
        },
        "outputId": "c2b1936e-c448-4219-e3a1-a8f1cc396c4f"
      },
      "execution_count": 23,
      "outputs": [
        {
          "output_type": "stream",
          "name": "stdout",
          "text": [
            "[1, 2, 3, 4, 10]\n"
          ]
        }
      ]
    },
    {
      "cell_type": "code",
      "source": [
        "# Que.8 Write a code to remove the number 3 from the list [1, 2, 3, 4, 5]?\n",
        "\n",
        "list3 = [1,2,3,4,5]\n",
        "list3.remove(3)\n",
        "print(list3)"
      ],
      "metadata": {
        "id": "2crrlJ1IlzHB",
        "colab": {
          "base_uri": "https://localhost:8080/"
        },
        "outputId": "f78240dd-7ed3-485f-9bf9-5317b54b0fc7"
      },
      "execution_count": 24,
      "outputs": [
        {
          "output_type": "stream",
          "name": "stdout",
          "text": [
            "[1, 2, 4, 5]\n"
          ]
        }
      ]
    },
    {
      "cell_type": "code",
      "source": [
        "# Que.9 Write a code to access the second element in the list ['a', 'b', 'c', 'd']?\n",
        "\n",
        "list4 = ['a','b','c','d']\n",
        "print(list4[1])\n"
      ],
      "metadata": {
        "colab": {
          "base_uri": "https://localhost:8080/"
        },
        "id": "Ol23laKI6X4T",
        "outputId": "a6df0773-7083-4ec3-bf8b-e24f44598823"
      },
      "execution_count": 9,
      "outputs": [
        {
          "output_type": "stream",
          "name": "stdout",
          "text": [
            "b\n"
          ]
        }
      ]
    },
    {
      "cell_type": "code",
      "source": [
        "# Que.10 Write a code to reverse the list [10, 20, 30, 40, 50].?\n",
        "\n",
        "# Example1:\n",
        "list5 = [10,20,30,40,50]\n",
        "list5.reverse()\n",
        "print(\"The reverse list is :\",(list5))\n",
        "\n",
        "# Example2:\n",
        "list5 = [10,20,30,40,50]\n",
        "print(\"The reverse list is :\",(list5[::-1]))\n"
      ],
      "metadata": {
        "id": "ry_SDS2mlzJW",
        "colab": {
          "base_uri": "https://localhost:8080/"
        },
        "outputId": "1463214b-30ab-4eba-d0ec-5e627567a730"
      },
      "execution_count": 26,
      "outputs": [
        {
          "output_type": "stream",
          "name": "stdout",
          "text": [
            "The reverse list is : [50, 40, 30, 20, 10]\n",
            "The reverse list is : [50, 40, 30, 20, 10]\n"
          ]
        }
      ]
    },
    {
      "cell_type": "code",
      "source": [
        "# Que.11 Write a code to create a tuple with the elements 100, 200, 300 and print it?\n",
        "\n",
        "#Examplw1:\n",
        "tuple1 = (100,200,300)\n",
        "print(\"The tuple is :\",tuple1)\n",
        "\n",
        "#Example2:\n",
        "tuple2 = 100,200,300\n",
        "print(\"The tuple is :\",tuple2)\n"
      ],
      "metadata": {
        "id": "6yKvQOljlzLN",
        "colab": {
          "base_uri": "https://localhost:8080/"
        },
        "outputId": "a41ed4c0-ba05-4d63-8903-bca18dcdd6ef"
      },
      "execution_count": 27,
      "outputs": [
        {
          "output_type": "stream",
          "name": "stdout",
          "text": [
            "The tuple is : (100, 200, 300)\n",
            "The tuple is : (100, 200, 300)\n"
          ]
        }
      ]
    },
    {
      "cell_type": "code",
      "source": [
        "# Que.12 Write a code to access the second-to-last element of the tuple ('red', 'green', 'blue', 'yellow').?\n",
        "\n",
        "# Example1\n",
        "tuple3 = ('red', 'green', 'blue', 'yellow')\n",
        "print(\"The second-to-last element of the tuple is :\",(tuple3[-2]))\n",
        "\n",
        "#Example2\n",
        "tuple4 = ('red', 'green', 'blue', 'yellow')\n",
        "print(\"The second-to-last element of the tuple is :\",tuple4[2])"
      ],
      "metadata": {
        "id": "lXsOCiQ8lzNR",
        "colab": {
          "base_uri": "https://localhost:8080/"
        },
        "outputId": "005fd98c-ffc5-4a48-d352-5d3dba329854"
      },
      "execution_count": 28,
      "outputs": [
        {
          "output_type": "stream",
          "name": "stdout",
          "text": [
            "The second-to-last element of the tuple is : blue\n",
            "The second-to-last element of the tuple is : blue\n"
          ]
        }
      ]
    },
    {
      "cell_type": "code",
      "source": [
        "# Que.13 Write a code to find the minimum number in the tuple (10, 20, 5, 15).?\n",
        "\n",
        "tuple5 = (10,20,5,15)\n",
        "print(\"The minimum number in the tuple is :\",min(tuple5))\n"
      ],
      "metadata": {
        "id": "9ctml8YwlzO5",
        "colab": {
          "base_uri": "https://localhost:8080/"
        },
        "outputId": "cb3e8fe3-2d40-407d-c2a0-64a9fa60ff54"
      },
      "execution_count": 29,
      "outputs": [
        {
          "output_type": "stream",
          "name": "stdout",
          "text": [
            "The minimum number in the tuple is : 5\n"
          ]
        }
      ]
    },
    {
      "cell_type": "code",
      "source": [
        "# Que.14 Write a code to find the index of the element \"cat\" in the tuple ('dog', 'cat', 'rabbit').?\n",
        "\n",
        "tuple6 = ('dog', 'cat', 'rabbit')\n",
        "print(tuple6.index('cat'))\n"
      ],
      "metadata": {
        "id": "Vtp86iK-lzRE",
        "colab": {
          "base_uri": "https://localhost:8080/"
        },
        "outputId": "049076be-0205-47cb-d25b-61d83e363810"
      },
      "execution_count": 30,
      "outputs": [
        {
          "output_type": "stream",
          "name": "stdout",
          "text": [
            "1\n"
          ]
        }
      ]
    },
    {
      "cell_type": "code",
      "source": [
        "# Que.15 Write a code to create a tuple containing three different fruits and check if \"kiwi\" is in it?\n",
        "\n",
        "# Example1:\n",
        "tuple1 = (\"Orange\",\"Apple\",\"Kiwi\")\n",
        "print(\"Kiwi\" in tuple1)\n",
        "\n",
        "\n",
        "# Example2:\n",
        "tuple1 = (\"Orange\",\"Apple\",\"Kiwi\")\n",
        "if \"Kiwi\" in tuple1:\n",
        "  print(\"Kiwi is in tuple1\")\n",
        "\n",
        "else:\n",
        "  print(\"Kiwi is not in tuple1\")\n"
      ],
      "metadata": {
        "colab": {
          "base_uri": "https://localhost:8080/"
        },
        "id": "sXYaechRDOJ9",
        "outputId": "0b3abd55-343a-4201-d97b-4e73eacb60f6"
      },
      "execution_count": 31,
      "outputs": [
        {
          "output_type": "stream",
          "name": "stdout",
          "text": [
            "True\n",
            "Kiwi is in tuple1\n"
          ]
        }
      ]
    },
    {
      "cell_type": "code",
      "source": [
        "# Que.16 Write a code to create a set with the elements 'a', 'b', 'c' and print it?\n",
        "\n",
        "set1 = {'a','b','c'}\n",
        "print(set1)\n"
      ],
      "metadata": {
        "id": "MjeYbZC7DOSI",
        "colab": {
          "base_uri": "https://localhost:8080/"
        },
        "outputId": "db9d7872-da68-4e8d-8997-89c5060c8e06"
      },
      "execution_count": 32,
      "outputs": [
        {
          "output_type": "stream",
          "name": "stdout",
          "text": [
            "{'a', 'b', 'c'}\n"
          ]
        }
      ]
    },
    {
      "cell_type": "code",
      "source": [
        "# Que.17 Write a code to clear all elements from the set {1, 2, 3, 4, 5}.?\n",
        "\n",
        "set2 = {1,2,3,4,5}\n",
        "set2.clear()\n",
        "print(set2)\n"
      ],
      "metadata": {
        "colab": {
          "base_uri": "https://localhost:8080/"
        },
        "id": "sWUEGxpigG9J",
        "outputId": "8efa13f5-1430-4460-b490-0e6bcde505f7"
      },
      "execution_count": 33,
      "outputs": [
        {
          "output_type": "stream",
          "name": "stdout",
          "text": [
            "set()\n"
          ]
        }
      ]
    },
    {
      "cell_type": "code",
      "source": [
        "# Que.18 Write a code to remove the element 4 from the set {1, 2, 3, 4}.?\n",
        "\n",
        "# Example 1:\n",
        "set3 = {1,2,3,4}\n",
        "set3.remove(4)\n",
        "print(set3)\n",
        "\n",
        "# Example 2:\n",
        "set4 = {1,2,3,4}\n",
        "set4.discard(4)\n",
        "print(set4)"
      ],
      "metadata": {
        "id": "-3tUKuKbDOXb",
        "colab": {
          "base_uri": "https://localhost:8080/"
        },
        "outputId": "0ac9d340-fabf-4c94-af8f-d8bd49329ffe"
      },
      "execution_count": 34,
      "outputs": [
        {
          "output_type": "stream",
          "name": "stdout",
          "text": [
            "{1, 2, 3}\n",
            "{1, 2, 3}\n"
          ]
        }
      ]
    },
    {
      "cell_type": "code",
      "source": [
        "# Que.19 Write a code to find the union of two sets {1, 2, 3} and {3, 4, 5}.?\n",
        "\n",
        "set5 = {1,2,3}\n",
        "set6 = {3,4,5}\n",
        "print(set5.union(set6))\n"
      ],
      "metadata": {
        "id": "KN2HSfHyDOaG",
        "colab": {
          "base_uri": "https://localhost:8080/"
        },
        "outputId": "8118a84c-ff96-4edb-fb53-b20b5b79ff49"
      },
      "execution_count": 35,
      "outputs": [
        {
          "output_type": "stream",
          "name": "stdout",
          "text": [
            "{1, 2, 3, 4, 5}\n"
          ]
        }
      ]
    },
    {
      "cell_type": "code",
      "source": [
        "# Que.20 Write a code to find the intersection of two sets {1, 2, 3} and {2, 3, 4}.?\n",
        "\n",
        "set7 = {1,2,3}\n",
        "set8 = {2,3,4}\n",
        "print(set7.intersection(set8))\n",
        "\n"
      ],
      "metadata": {
        "id": "i6-Lo61JDObV",
        "colab": {
          "base_uri": "https://localhost:8080/"
        },
        "outputId": "06d00a95-d5e0-42a9-cb43-bf0f4e597e2d"
      },
      "execution_count": 36,
      "outputs": [
        {
          "output_type": "stream",
          "name": "stdout",
          "text": [
            "{2, 3}\n"
          ]
        }
      ]
    },
    {
      "cell_type": "code",
      "source": [
        "# Que.21 Write a code to create a dictionary with the keys \"name\", \"age\", and \"city\", and print it.?\n",
        "\n",
        "dict1 = {\"name:John\",\"age:26\",\"city:Mumbai\"}\n",
        "print(\"The dictionary is:\",dict1)\n"
      ],
      "metadata": {
        "id": "oo8i3Z6wDOdZ",
        "colab": {
          "base_uri": "https://localhost:8080/"
        },
        "outputId": "b33531f8-e7fa-4f6c-dc49-fa21c3379e02"
      },
      "execution_count": 37,
      "outputs": [
        {
          "output_type": "stream",
          "name": "stdout",
          "text": [
            "The dictionary is: {'name:John', 'city:Mumbai', 'age:26'}\n"
          ]
        }
      ]
    },
    {
      "cell_type": "code",
      "source": [
        "# Que.22 Write a code to add a new key-value pair \"country\": \"USA\" to the dictionary {'name': 'John', 'age': 25}.?\n",
        "\n",
        "#Example1:\n",
        "dict2 = {'name': 'John', 'age': 25}\n",
        "dict2[\"Country\"] = \"USA\"\n",
        "print(dict2)\n",
        "\n",
        "\n",
        "#Example2:\n",
        "dict3 = {'name': 'John', 'age':25}\n",
        "new_dict ={'country':'USA'}\n",
        "dict3.update(new_dict)\n",
        "print(dict3)\n",
        "\n"
      ],
      "metadata": {
        "id": "hWnUhZzXDOgm",
        "colab": {
          "base_uri": "https://localhost:8080/"
        },
        "outputId": "e1135220-2850-40b8-8696-f8e1dac07b45"
      },
      "execution_count": 38,
      "outputs": [
        {
          "output_type": "stream",
          "name": "stdout",
          "text": [
            "{'name': 'John', 'age': 25, 'Country': 'USA'}\n",
            "{'name': 'John', 'age': 25, 'country': 'USA'}\n"
          ]
        }
      ]
    },
    {
      "cell_type": "code",
      "source": [
        "# Que.23 Write a code to access the value associated with the key \"name\" in the dictionary {'name': 'Alice', 'age': 30}.\n",
        "\n",
        "#Example1:\n",
        "dict4 = {'name': 'Alice', 'age': 30}\n",
        "print(dict4[\"name\"])\n",
        "\n",
        "\n",
        "#Example2:\n",
        "dict5 = {'name': 'Alice', 'age': 30}\n",
        "print(dict5.get(\"name\"))"
      ],
      "metadata": {
        "id": "PTbjcTg_DOmO",
        "colab": {
          "base_uri": "https://localhost:8080/"
        },
        "outputId": "0b69f1a1-75c8-4b73-9dfd-b518aded4b8c"
      },
      "execution_count": 39,
      "outputs": [
        {
          "output_type": "stream",
          "name": "stdout",
          "text": [
            "Alice\n",
            "Alice\n"
          ]
        }
      ]
    },
    {
      "cell_type": "code",
      "source": [
        "#  Que.24 Write a code to remove the key \"age\" from the dictionary {'name': 'Bob', 'age': 22, 'city': 'New York'}.\n",
        "\n",
        "#Example1:\n",
        "dict1 = {'name': 'Bob', 'age': 22, 'city': 'New York'}\n",
        "dict1.pop(\"age\")\n",
        "print(dict1)\n",
        "\n",
        "\n",
        "#Example2:\n",
        "dict2 = {'name': 'Bob', 'age': 22, 'city': 'New York'}\n",
        "del dict2[\"age\"]\n",
        "print(dict2)\n",
        "\n"
      ],
      "metadata": {
        "id": "SMMz4uisDOo-",
        "colab": {
          "base_uri": "https://localhost:8080/"
        },
        "outputId": "04673c8f-a3b2-4c25-cad5-8ac095d16b9c"
      },
      "execution_count": 40,
      "outputs": [
        {
          "output_type": "stream",
          "name": "stdout",
          "text": [
            "{'name': 'Bob', 'city': 'New York'}\n",
            "{'name': 'Bob', 'city': 'New York'}\n"
          ]
        }
      ]
    },
    {
      "cell_type": "code",
      "source": [
        "# Que.25 Write a code to check if the key \"city\" exists in the dictionary {'name': 'Alice', 'city': 'Paris'}.?\n",
        "\n",
        "dict3 = {'name': 'Alice', 'city': 'Paris'}\n",
        "if \"city\"in dict3:\n",
        "  print(\"City is present in the Dictionary\")\n",
        "\n",
        "else:\n",
        "  print(\"City is not present in the Dictionary\")\n"
      ],
      "metadata": {
        "id": "Gg_zhlT1DOt8",
        "colab": {
          "base_uri": "https://localhost:8080/"
        },
        "outputId": "2f5fd8ad-0109-48d1-904c-d63900199a93"
      },
      "execution_count": 10,
      "outputs": [
        {
          "output_type": "stream",
          "name": "stdout",
          "text": [
            "City is present in the Dictionary\n"
          ]
        }
      ]
    },
    {
      "cell_type": "code",
      "source": [
        "# Que.26 Write a code to create a list, a tuple, and a dictionary, and print them all.?\n",
        "\n",
        "\n",
        "list1 = [10,20,30,40,50]\n",
        "tuple1 = (10,20,30,40,50)\n",
        "dict1 = {\"Ten\":10, \"Twenty\":20, \"Thirty\":30, \"Forty\":40, \"Fifty\":50}\n",
        "print(\"The list is :\",list1)\n",
        "print(\"The tuple is :\",tuple1)\n",
        "print(\"The dictionary is :\",dict1)\n",
        "\n"
      ],
      "metadata": {
        "id": "DvZzysdADOzL",
        "colab": {
          "base_uri": "https://localhost:8080/"
        },
        "outputId": "4632da25-5119-4e8d-8563-9d17bb528cdd"
      },
      "execution_count": 42,
      "outputs": [
        {
          "output_type": "stream",
          "name": "stdout",
          "text": [
            "The list is : [10, 20, 30, 40, 50]\n",
            "The tuple is : (10, 20, 30, 40, 50)\n",
            "The dictionary is : {'Ten': 10, 'Twenty': 20, 'Thirty': 30, 'Forty': 40, 'Fifty': 50}\n"
          ]
        }
      ]
    },
    {
      "cell_type": "code",
      "source": [
        "# Que.27 Write a code to create a list of 5 random numbers between 1 and 100, sort it in ascending order, and print the result.(replaced)?\n",
        "\n",
        "list1 = [89,57,38,93,48]\n",
        "list1.sort()\n",
        "list1\n"
      ],
      "metadata": {
        "id": "dphcLvE_DO1u",
        "colab": {
          "base_uri": "https://localhost:8080/"
        },
        "outputId": "38b5bfef-927a-48ec-ee60-aee82d4f7523"
      },
      "execution_count": 43,
      "outputs": [
        {
          "output_type": "execute_result",
          "data": {
            "text/plain": [
              "[1, 2, 3, 4, 10]"
            ]
          },
          "metadata": {},
          "execution_count": 43
        }
      ]
    },
    {
      "cell_type": "code",
      "source": [
        "# Que.28 Write a code to create a list with strings and print the element at the third index?\n",
        "\n",
        "fruit=[\"Apple\",\"Banna\",\"Grapes\",\"Cherry\"]\n",
        "print(\"Element at third index is :\",fruit[2])\n",
        "\n"
      ],
      "metadata": {
        "id": "Cd9Ty3VSDO4A",
        "colab": {
          "base_uri": "https://localhost:8080/"
        },
        "outputId": "4f1c8ab4-eef4-47ae-ef0d-95401d6436af"
      },
      "execution_count": 13,
      "outputs": [
        {
          "output_type": "stream",
          "name": "stdout",
          "text": [
            "Element at third index is : Grapes\n"
          ]
        }
      ]
    },
    {
      "cell_type": "code",
      "source": [
        "# Que.29 Write a code to combine two dictionaries into one and print the result.?\n",
        "\n",
        "#Example1:\n",
        "dict1 = {\"Name\":\"John\",\"Education\":\"Btech\"}\n",
        "dict2 = {\"Salary\":\"Twenty lakhs\",\"City\":\"Mumbai\"}\n",
        "dict3 = dict1.copy()\n",
        "dict3.update(dict2)\n",
        "print(dict3)\n",
        "\n",
        "#Example2:\n",
        "dict1 ={\"Name\":\"John\",\"Education\":\"Btech\"}\n",
        "dict2 = {\"Salary\":\"Twenty lakhs\",\"City\":\"Mumbai\"}\n",
        "dict3 = {**dict1,**dict2}\n",
        "print(dict3)\n",
        "\n",
        "#Example3:\n",
        "dict1 = {\"Name\":\"John\",\"Education\":\"Btech\"}\n",
        "dict2 = {\"Salary\":\"Twenty lakhs\",\"City\":\"Mumbai\"}\n",
        "dict1.update(dict2)\n",
        "print(dict1)\n",
        "\n"
      ],
      "metadata": {
        "id": "Y0g6f__jDO6U",
        "colab": {
          "base_uri": "https://localhost:8080/"
        },
        "outputId": "f7390d2b-8d51-45b3-e4dd-91f5be8dd7f3"
      },
      "execution_count": 15,
      "outputs": [
        {
          "output_type": "stream",
          "name": "stdout",
          "text": [
            "{'Name': 'John', 'Education': 'Btech', 'Salary': 'Twenty lakhs', 'City': 'Mumbai'}\n",
            "{'Name': 'John', 'Education': 'Btech', 'Salary': 'Twenty lakhs', 'City': 'Mumbai'}\n",
            "{'Name': 'John', 'Education': 'Btech', 'Salary': 'Twenty lakhs', 'City': 'Mumbai'}\n"
          ]
        }
      ]
    },
    {
      "cell_type": "code",
      "source": [
        "# Que.30 Write a code to convert a list of strings into a set.\n",
        "\n",
        "#Example1:\n",
        "list1 = [\"India\",\"UK\",\"USA\"]\n",
        "print(set(list1))\n",
        "\n",
        "#Example2:\n",
        "list2 = [\"India\",\"UK\",\"USA\"]\n",
        "set1 = set(list2)\n",
        "print(set1)\n",
        "\n"
      ],
      "metadata": {
        "id": "nwsJWdQfDO7r",
        "colab": {
          "base_uri": "https://localhost:8080/"
        },
        "outputId": "b858577a-1617-4ac5-d3d2-47be7ac420b7"
      },
      "execution_count": 17,
      "outputs": [
        {
          "output_type": "stream",
          "name": "stdout",
          "text": [
            "{'USA', 'UK', 'India'}\n",
            "{'USA', 'UK', 'India'}\n"
          ]
        }
      ]
    }
  ]
}